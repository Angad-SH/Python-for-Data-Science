{
 "cells": [
  {
   "cell_type": "code",
   "execution_count": 1,
   "id": "8701bb0e",
   "metadata": {},
   "outputs": [
    {
     "name": "stdout",
     "output_type": "stream",
     "text": [
      "Employees above 25: \n",
      "     Name  Age  Salary\n",
      "1  Daniel   34   60000\n",
      "3  Carlos   29   55000\n",
      "4   Lewis   38   40000\n",
      "\n",
      "Employees with salary less than 50000:\n",
      "      Name  Age  Salary\n",
      "0      Max   25   45000\n",
      "2  Charles   25   48000\n",
      "4    Lewis   38   40000\n",
      "5    Lando   23   42000\n"
     ]
    }
   ],
   "source": [
    "#Angad Singh Hoonjan\n",
    "#RA2111053010021\n",
    "import pandas as pd\n",
    "data = {'Name':['Max','Daniel','Charles','Carlos','Lewis','Lando'],\n",
    "'Age':[25,34,25,29,38,23],\n",
    "'Salary':[45000,60000,48000,55000,40000,42000]}\n",
    "df=pd.DataFrame(data)\n",
    "above_age=df[df['Age']>25]\n",
    "below_sal=df[df['Salary']<50000]\n",
    "print(\"Employees above 25: \")\n",
    "print(above_age)\n",
    "print(\"\\nEmployees with salary less than 50000:\")\n",
    "print(below_sal)"
   ]
  },
  {
   "cell_type": "code",
   "execution_count": 2,
   "id": "b6259616",
   "metadata": {},
   "outputs": [
    {
     "name": "stdout",
     "output_type": "stream",
     "text": [
      "   Values  Square  Cube\n",
      "0       0       0     0\n",
      "1       1       1     1\n",
      "2       2       4     8\n",
      "3       3       9    27\n",
      "4       4      16    64\n",
      "5       5      25   125\n",
      "6       6      36   216\n",
      "7       7      49   343\n",
      "8       8      64   512\n",
      "9       9      81   729\n"
     ]
    }
   ],
   "source": [
    "#Angad Singh Hoonjan\n",
    "#RA2111053010021\n",
    "import pandas as pd\n",
    "import numpy as np\n",
    "df=pd.DataFrame({'Values':range(10)})\n",
    "df['Square'] = df['Values'].transform(lambda x:x**2)\n",
    "df['Cube'] = df['Values'].transform(lambda x:x**3)\n",
    "print (df)"
   ]
  }
 ],
 "metadata": {
  "kernelspec": {
   "display_name": "Python 3 (ipykernel)",
   "language": "python",
   "name": "python3"
  },
  "language_info": {
   "codemirror_mode": {
    "name": "ipython",
    "version": 3
   },
   "file_extension": ".py",
   "mimetype": "text/x-python",
   "name": "python",
   "nbconvert_exporter": "python",
   "pygments_lexer": "ipython3",
   "version": "3.11.3"
  }
 },
 "nbformat": 4,
 "nbformat_minor": 5
}
