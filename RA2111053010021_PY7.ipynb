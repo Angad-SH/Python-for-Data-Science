{
 "cells": [
  {
   "cell_type": "code",
   "execution_count": 22,
   "id": "cec732bb",
   "metadata": {},
   "outputs": [
    {
     "name": "stdout",
     "output_type": "stream",
     "text": [
      "[35, 35, 20, 15, 35, 35, 20, 35, 15, 20]\n"
     ]
    }
   ],
   "source": [
    "#Angad Singh Hoonjan\n",
    "#RA2111053010021\n",
    "#method 1\n",
    "import random\n",
    "numbers = [15, 20, 35]\n",
    "distributions = [0.2, 0.3, 0.5]\n",
    "random_number = random.choices(numbers,distributions,k=10)\n",
    "print(random_number)"
   ]
  },
  {
   "cell_type": "code",
   "execution_count": 12,
   "id": "b11cf2b9",
   "metadata": {},
   "outputs": [
    {
     "name": "stdout",
     "output_type": "stream",
     "text": [
      "[35 35 35 35 20 20 35 35 15 15]\n"
     ]
    }
   ],
   "source": [
    "#Angad Singh Hoonjan\n",
    "#RA2111053010021\n",
    "#method 2\n",
    "import numpy as np\n",
    "numbers = [15, 20, 35]\n",
    "distributions = [0.3, 0.2, 0.5]\n",
    "random_numbers = np.random.choice(numbers,10,True,distributions)\n",
    "print(random_numbers)"
   ]
  },
  {
   "cell_type": "code",
   "execution_count": 24,
   "id": "1e38e4e0",
   "metadata": {},
   "outputs": [
    {
     "name": "stdout",
     "output_type": "stream",
     "text": [
      "[35 35 20 15 15 35 15 15 15 35]\n"
     ]
    }
   ],
   "source": [
    "#Angad Singh Hoonjan\n",
    "#RA2111053010021\n",
    "#method 3\n",
    "from scipy.stats import rv_discrete\n",
    "numbers = [15, 20, 35]\n",
    "distributions = [0.5,0.1,0.4]\n",
    "d = rv_discrete(values=(numbers,distributions))\n",
    "print(d.rvs(size=10))"
   ]
  },
  {
   "cell_type": "code",
   "execution_count": 25,
   "id": "5c15f628",
   "metadata": {},
   "outputs": [
    {
     "name": "stdout",
     "output_type": "stream",
     "text": [
      "[35, 35, 15, 35, 35, 35, 35, 35, 35, 15]\n"
     ]
    }
   ],
   "source": [
    "#Angad Singh Hoonjan\n",
    "#RA2111053010021\n",
    "#method 1 (with zero probability value)\n",
    "import random\n",
    "numbers = [15, 20, 35]\n",
    "distributions = [0.2, 0, 0.5]\n",
    "random_number = random.choices(numbers,distributions,k=10)\n",
    "print(random_number)"
   ]
  },
  {
   "cell_type": "code",
   "execution_count": 27,
   "id": "ee422248",
   "metadata": {},
   "outputs": [
    {
     "name": "stdout",
     "output_type": "stream",
     "text": [
      "[15 35 35 15 15 15 35 15 35 15]\n"
     ]
    }
   ],
   "source": [
    "#Angad Singh Hoonjan\n",
    "#RA2111053010021\n",
    "#method 2 (with zero probability value)\n",
    "import numpy as np\n",
    "numbers = [15, 20, 35]\n",
    "distributions = [0.5, 0, 0.5]\n",
    "random_numbers = np.random.choice(numbers,10,True,distributions)\n",
    "print(random_numbers)"
   ]
  },
  {
   "cell_type": "code",
   "execution_count": 28,
   "id": "76c0684e",
   "metadata": {},
   "outputs": [
    {
     "name": "stdout",
     "output_type": "stream",
     "text": [
      "[15 35 15 15 35 15 15 35 35 35]\n"
     ]
    }
   ],
   "source": [
    "#Angad Singh Hoonjan\n",
    "#RA2111053010021\n",
    "#method 3 (with zero probability value)\n",
    "from scipy.stats import rv_discrete\n",
    "numbers = [15, 20, 35]\n",
    "distributions = [0.5,0,0.5]\n",
    "d = rv_discrete(values=(numbers,distributions))\n",
    "print(d.rvs(size=10))"
   ]
  },
  {
   "cell_type": "code",
   "execution_count": 33,
   "id": "24ba6432",
   "metadata": {},
   "outputs": [
    {
     "name": "stdout",
     "output_type": "stream",
     "text": [
      "[ 9  8  8 ...  7 11  6]\n"
     ]
    },
    {
     "data": {
      "text/plain": [
       "(array([   3.,    0.,    0.,    0.,   30.,    0.,    0.,    0.,    0.,\n",
       "         121.,    0.,    0.,    0.,  431.,    0.,    0.,    0.,    0.,\n",
       "        1038.,    0.,    0.,    0., 1734.,    0.,    0.,    0.,    0.,\n",
       "        2248.,    0.,    0.,    0., 2104.,    0.,    0.,    0.,    0.,\n",
       "        1454.,    0.,    0.,    0.,  634.,    0.,    0.,    0.,    0.,\n",
       "         183.,    0.,    0.,    0.,   20.]),\n",
       " array([ 1.  ,  1.22,  1.44,  1.66,  1.88,  2.1 ,  2.32,  2.54,  2.76,\n",
       "         2.98,  3.2 ,  3.42,  3.64,  3.86,  4.08,  4.3 ,  4.52,  4.74,\n",
       "         4.96,  5.18,  5.4 ,  5.62,  5.84,  6.06,  6.28,  6.5 ,  6.72,\n",
       "         6.94,  7.16,  7.38,  7.6 ,  7.82,  8.04,  8.26,  8.48,  8.7 ,\n",
       "         8.92,  9.14,  9.36,  9.58,  9.8 , 10.02, 10.24, 10.46, 10.68,\n",
       "        10.9 , 11.12, 11.34, 11.56, 11.78, 12.  ]),\n",
       " <BarContainer object of 50 artists>)"
      ]
     },
     "execution_count": 33,
     "metadata": {},
     "output_type": "execute_result"
    },
    {
     "data": {
      "image/png": "[encoded data removed]",
      "text/plain": [
       "<Figure size 432x288 with 1 Axes>"
      ]
     },
     "metadata": {
      "needs_background": "light"
     },
     "output_type": "display_data"
    }
   ],
   "source": [
    "#Binomial Distribution\n",
    "from scipy.stats import binom\n",
    "import matplotlib.pyplot as plt\n",
    "binom_rnd_sample = binom.rvs(n=12, p=0.6, size=10000)\n",
    "print(binom_rnd_sample)\n",
    "plt.hist(binom_rnd_sample,bins = 50)"
   ]
  },
  {
   "cell_type": "code",
   "execution_count": 38,
   "id": "f7face4b",
   "metadata": {},
   "outputs": [
    {
     "name": "stdout",
     "output_type": "stream",
     "text": [
      "[0 1 0 ... 0 1 0]\n"
     ]
    },
    {
     "data": {
      "text/plain": [
       "(array([6.698e+03, 0.000e+00, 0.000e+00, 0.000e+00, 0.000e+00, 0.000e+00,\n",
       "        2.649e+03, 0.000e+00, 0.000e+00, 0.000e+00, 0.000e+00, 0.000e+00,\n",
       "        5.680e+02, 0.000e+00, 0.000e+00, 0.000e+00, 0.000e+00, 0.000e+00,\n",
       "        8.200e+01, 0.000e+00, 0.000e+00, 0.000e+00, 0.000e+00, 0.000e+00,\n",
       "        3.000e+00]),\n",
       " array([0.  , 0.16, 0.32, 0.48, 0.64, 0.8 , 0.96, 1.12, 1.28, 1.44, 1.6 ,\n",
       "        1.76, 1.92, 2.08, 2.24, 2.4 , 2.56, 2.72, 2.88, 3.04, 3.2 , 3.36,\n",
       "        3.52, 3.68, 3.84, 4.  ]),\n",
       " <BarContainer object of 25 artists>)"
      ]
     },
     "execution_count": 38,
     "metadata": {},
     "output_type": "execute_result"
    },
    {
     "data": {
      "image/png": "[encoded data removed]",
      "text/plain": [
       "<Figure size 432x288 with 1 Axes>"
      ]
     },
     "metadata": {
      "needs_background": "light"
     },
     "output_type": "display_data"
    }
   ],
   "source": [
    "#Poisson Distribution\n",
    "from scipy.stats import poisson\n",
    "import matplotlib.pyplot as plt\n",
    "pois_rnd_sample = poisson.rvs(mu=0.4,size=10000)\n",
    "print(pois_rnd_sample)\n",
    "plt.hist(pois_rnd_sample,bins = 25)"
   ]
  },
  {
   "cell_type": "code",
   "execution_count": 45,
   "id": "61207675",
   "metadata": {},
   "outputs": [
    {
     "name": "stdout",
     "output_type": "stream",
     "text": [
      "[ 2.54811454  3.66027122 -1.7695691  ... -2.96964071  1.67625725\n",
      " -1.37925513]\n"
     ]
    },
    {
     "data": {
      "text/plain": [
       "(array([  1.,   0.,   0.,   1.,   0.,   0.,   3.,   1.,   1.,   6.,   5.,\n",
       "          5.,   9.,   9.,   8.,  13.,  18.,  22.,  26.,  25.,  27.,  36.,\n",
       "         38.,  49.,  55.,  75.,  82.,  70.,  86.,  90., 120., 112., 126.,\n",
       "        138., 172., 175., 165., 192., 241., 218., 240., 276., 245., 281.,\n",
       "        296., 288., 249., 301., 299., 336., 293., 314., 271., 255., 257.,\n",
       "        261., 265., 264., 240., 215., 192., 228., 171., 179., 169., 140.,\n",
       "        123., 124.,  98.,  77.,  68.,  73.,  72.,  51.,  47.,  54.,  41.,\n",
       "         46.,  29.,  25.,  33.,  14.,  12.,  15.,  12.,   5.,   8.,   8.,\n",
       "          5.,   5.,   5.,   0.,   1.,   1.,   1.,   1.,   0.,   0.,   0.,\n",
       "          1.]),\n",
       " array([-18.27940512, -17.90790411, -17.53640309, -17.16490208,\n",
       "        -16.79340107, -16.42190005, -16.05039904, -15.67889802,\n",
       "        -15.30739701, -14.935896  , -14.56439498, -14.19289397,\n",
       "        -13.82139295, -13.44989194, -13.07839093, -12.70688991,\n",
       "        -12.3353889 , -11.96388788, -11.59238687, -11.22088586,\n",
       "        -10.84938484, -10.47788383, -10.10638281,  -9.7348818 ,\n",
       "         -9.36338079,  -8.99187977,  -8.62037876,  -8.24887774,\n",
       "         -7.87737673,  -7.50587572,  -7.1343747 ,  -6.76287369,\n",
       "         -6.39137267,  -6.01987166,  -5.64837065,  -5.27686963,\n",
       "         -4.90536862,  -4.5338676 ,  -4.16236659,  -3.79086558,\n",
       "         -3.41936456,  -3.04786355,  -2.67636253,  -2.30486152,\n",
       "         -1.93336051,  -1.56185949,  -1.19035848,  -0.81885746,\n",
       "         -0.44735645,  -0.07585544,   0.29564558,   0.66714659,\n",
       "          1.03864761,   1.41014862,   1.78164963,   2.15315065,\n",
       "          2.52465166,   2.89615267,   3.26765369,   3.6391547 ,\n",
       "          4.01065572,   4.38215673,   4.75365774,   5.12515876,\n",
       "          5.49665977,   5.86816079,   6.2396618 ,   6.61116281,\n",
       "          6.98266383,   7.35416484,   7.72566586,   8.09716687,\n",
       "          8.46866788,   8.8401689 ,   9.21166991,   9.58317093,\n",
       "          9.95467194,  10.32617295,  10.69767397,  11.06917498,\n",
       "         11.440676  ,  11.81217701,  12.18367802,  12.55517904,\n",
       "         12.92668005,  13.29818107,  13.66968208,  14.04118309,\n",
       "         14.41268411,  14.78418512,  15.15568614,  15.52718715,\n",
       "         15.89868816,  16.27018918,  16.64169019,  17.01319121,\n",
       "         17.38469222,  17.75619323,  18.12769425,  18.49919526,\n",
       "         18.87069628]),\n",
       " <BarContainer object of 100 artists>)"
      ]
     },
     "execution_count": 45,
     "metadata": {},
     "output_type": "execute_result"
    },
    {
     "data": {
      "image/png": "[encoded data removed]",
      "text/plain": [
       "<Figure size 432x288 with 1 Axes>"
      ]
     },
     "metadata": {
      "needs_background": "light"
     },
     "output_type": "display_data"
    }
   ],
   "source": [
    "#Normal Distribution\n",
    "from scipy.stats import norm\n",
    "import matplotlib.pyplot as plt\n",
    "norm_rnd_sample = norm.rvs(loc=0, scale=5, size=10000)\n",
    "print(norm_rnd_sample)\n",
    "plt.hist(norm_rnd_sample,bins = 100)"
   ]
  },
  {
   "cell_type": "code",
   "execution_count": 49,
   "id": "15f6cc92",
   "metadata": {},
   "outputs": [
    {
     "name": "stdout",
     "output_type": "stream",
     "text": [
      "[ 8.61849833 15.0477002  16.33462029 ... 14.68157521 13.64688258\n",
      " 16.38262545]\n"
     ]
    },
    {
     "data": {
      "text/plain": [
       "(array([107.,  95.,  98., 107., 108.,  86., 111., 100.,  98., 101., 106.,\n",
       "         96.,  95., 101., 112.,  92., 112.,  87.,  90., 118.,  98.,  91.,\n",
       "        106.,  99., 117., 112.,  83., 101.,  92.,  94.,  91., 100., 103.,\n",
       "        102., 112., 112.,  99., 113., 109.,  96., 103.,  99.,  98., 113.,\n",
       "        106.,  91., 118.,  98.,  97.,  97.,  94.,  98.,  93.,  96., 123.,\n",
       "         99.,  96.,  95.,  81.,  82., 111.,  92.,  99., 106.,  91., 106.,\n",
       "         95., 108.,  74., 106.,  91., 102.,  89.,  94., 107., 101.,  83.,\n",
       "         97., 105., 108., 106., 102.,  77., 103.,  95.,  89., 112., 107.,\n",
       "         92., 105., 100., 112., 106., 100., 106.,  91.,  90., 102., 112.,\n",
       "        101.]),\n",
       " array([ 5.00085104,  5.15078817,  5.3007253 ,  5.45066243,  5.60059955,\n",
       "         5.75053668,  5.90047381,  6.05041094,  6.20034807,  6.3502852 ,\n",
       "         6.50022233,  6.65015945,  6.80009658,  6.95003371,  7.09997084,\n",
       "         7.24990797,  7.3998451 ,  7.54978223,  7.69971935,  7.84965648,\n",
       "         7.99959361,  8.14953074,  8.29946787,  8.449405  ,  8.59934213,\n",
       "         8.74927926,  8.89921638,  9.04915351,  9.19909064,  9.34902777,\n",
       "         9.4989649 ,  9.64890203,  9.79883916,  9.94877628, 10.09871341,\n",
       "        10.24865054, 10.39858767, 10.5485248 , 10.69846193, 10.84839906,\n",
       "        10.99833618, 11.14827331, 11.29821044, 11.44814757, 11.5980847 ,\n",
       "        11.74802183, 11.89795896, 12.04789608, 12.19783321, 12.34777034,\n",
       "        12.49770747, 12.6476446 , 12.79758173, 12.94751886, 13.09745599,\n",
       "        13.24739311, 13.39733024, 13.54726737, 13.6972045 , 13.84714163,\n",
       "        13.99707876, 14.14701589, 14.29695301, 14.44689014, 14.59682727,\n",
       "        14.7467644 , 14.89670153, 15.04663866, 15.19657579, 15.34651291,\n",
       "        15.49645004, 15.64638717, 15.7963243 , 15.94626143, 16.09619856,\n",
       "        16.24613569, 16.39607282, 16.54600994, 16.69594707, 16.8458842 ,\n",
       "        16.99582133, 17.14575846, 17.29569559, 17.44563272, 17.59556984,\n",
       "        17.74550697, 17.8954441 , 18.04538123, 18.19531836, 18.34525549,\n",
       "        18.49519262, 18.64512974, 18.79506687, 18.945004  , 19.09494113,\n",
       "        19.24487826, 19.39481539, 19.54475252, 19.69468964, 19.84462677,\n",
       "        19.9945639 ]),\n",
       " <BarContainer object of 100 artists>)"
      ]
     },
     "execution_count": 49,
     "metadata": {},
     "output_type": "execute_result"
    },
    {
     "data": {
      "image/png": "[encoded data removed]",
      "text/plain": [
       "<Figure size 432x288 with 1 Axes>"
      ]
     },
     "metadata": {
      "needs_background": "light"
     },
     "output_type": "display_data"
    }
   ],
   "source": [
    "#Uniform Distribution\n",
    "from scipy.stats import uniform\n",
    "import matplotlib.pyplot as plt\n",
    "uni_rnd_sample = uniform.rvs(loc=5, scale=15, size=10000)\n",
    "print(uni_rnd_sample)\n",
    "plt.hist(uni_rnd_sample,bins = 100)"
   ]
  },
  {
   "cell_type": "code",
   "execution_count": 50,
   "id": "9e9dd45d",
   "metadata": {},
   "outputs": [
    {
     "name": "stdout",
     "output_type": "stream",
     "text": [
      "[24.19747078 65.38177187 14.48074212 ... 12.63117725 26.70882575\n",
      " 37.69324027]\n"
     ]
    },
    {
     "data": {
      "text/plain": [
       "(array([911., 750., 714., 639., 631., 551., 502., 444., 426., 386., 334.,\n",
       "        315., 277., 249., 284., 236., 220., 179., 169., 148., 143., 115.,\n",
       "        104.,  85., 100.,  90.,  95.,  70.,  73.,  60.,  64.,  59.,  52.,\n",
       "         48.,  40.,  41.,  47.,  41.,  32.,  27.,  25.,  19.,  13.,  19.,\n",
       "         10.,  16.,  18.,  10.,  11.,   8.,  10.,   6.,  11.,   7.,   3.,\n",
       "          6.,   6.,   4.,   3.,   3.,   6.,   9.,   4.,   2.,   1.,   1.,\n",
       "          0.,   0.,   2.,   0.,   2.,   1.,   0.,   0.,   0.,   1.,   1.,\n",
       "          1.,   1.,   2.,   0.,   0.,   2.,   0.,   0.,   0.,   0.,   0.,\n",
       "          0.,   0.,   0.,   0.,   1.,   1.,   0.,   0.,   0.,   1.,   1.,\n",
       "          1.]),\n",
       " array([  5.00011626,   6.35387903,   7.70764179,   9.06140456,\n",
       "         10.41516732,  11.76893008,  13.12269285,  14.47645561,\n",
       "         15.83021838,  17.18398114,  18.53774391,  19.89150667,\n",
       "         21.24526943,  22.5990322 ,  23.95279496,  25.30655773,\n",
       "         26.66032049,  28.01408326,  29.36784602,  30.72160878,\n",
       "         32.07537155,  33.42913431,  34.78289708,  36.13665984,\n",
       "         37.49042261,  38.84418537,  40.19794813,  41.5517109 ,\n",
       "         42.90547366,  44.25923643,  45.61299919,  46.96676195,\n",
       "         48.32052472,  49.67428748,  51.02805025,  52.38181301,\n",
       "         53.73557578,  55.08933854,  56.4431013 ,  57.79686407,\n",
       "         59.15062683,  60.5043896 ,  61.85815236,  63.21191513,\n",
       "         64.56567789,  65.91944065,  67.27320342,  68.62696618,\n",
       "         69.98072895,  71.33449171,  72.68825448,  74.04201724,\n",
       "         75.39578   ,  76.74954277,  78.10330553,  79.4570683 ,\n",
       "         80.81083106,  82.16459383,  83.51835659,  84.87211935,\n",
       "         86.22588212,  87.57964488,  88.93340765,  90.28717041,\n",
       "         91.64093318,  92.99469594,  94.3484587 ,  95.70222147,\n",
       "         97.05598423,  98.409747  ,  99.76350976, 101.11727252,\n",
       "        102.47103529, 103.82479805, 105.17856082, 106.53232358,\n",
       "        107.88608635, 109.23984911, 110.59361187, 111.94737464,\n",
       "        113.3011374 , 114.65490017, 116.00866293, 117.3624257 ,\n",
       "        118.71618846, 120.06995122, 121.42371399, 122.77747675,\n",
       "        124.13123952, 125.48500228, 126.83876505, 128.19252781,\n",
       "        129.54629057, 130.90005334, 132.2538161 , 133.60757887,\n",
       "        134.96134163, 136.3151044 , 137.66886716, 139.02262992,\n",
       "        140.37639269]),\n",
       " <BarContainer object of 100 artists>)"
      ]
     },
     "execution_count": 50,
     "metadata": {},
     "output_type": "execute_result"
    },
    {
     "data": {
      "image/png": "[encoded data removed]",
      "text/plain": [
       "<Figure size 432x288 with 1 Axes>"
      ]
     },
     "metadata": {
      "needs_background": "light"
     },
     "output_type": "display_data"
    }
   ],
   "source": [
    "#Exponential Distribution\n",
    "from scipy.stats import expon\n",
    "import matplotlib.pyplot as plt\n",
    "exp_rnd_sample = expon.rvs(loc=5, scale=15, size=10000)\n",
    "print(exp_rnd_sample)\n",
    "plt.hist(exp_rnd_sample,bins = 100)"
   ]
  },
  {
   "cell_type": "code",
   "execution_count": 54,
   "id": "b21b597f",
   "metadata": {},
   "outputs": [
    {
     "name": "stdout",
     "output_type": "stream",
     "text": [
      "[1 0 0 ... 0 0 0]\n"
     ]
    },
    {
     "data": {
      "text/plain": [
       "(array([4094.,    0.,    0.,    0.,    0.,    0.,    0.,    0.,    0.,\n",
       "           0.,    0.,    0.,    0.,    0.,    0.,    0.,    0.,    0.,\n",
       "           0.,    0.,    0.,    0.,    0.,    0.,    0.,    0.,    0.,\n",
       "           0.,    0.,    0.,    0.,    0.,    0.,    0.,    0.,    0.,\n",
       "           0.,    0.,    0.,    0.,    0.,    0.,    0.,    0.,    0.,\n",
       "           0.,    0.,    0.,    0., 5906.]),\n",
       " array([0.  , 0.02, 0.04, 0.06, 0.08, 0.1 , 0.12, 0.14, 0.16, 0.18, 0.2 ,\n",
       "        0.22, 0.24, 0.26, 0.28, 0.3 , 0.32, 0.34, 0.36, 0.38, 0.4 , 0.42,\n",
       "        0.44, 0.46, 0.48, 0.5 , 0.52, 0.54, 0.56, 0.58, 0.6 , 0.62, 0.64,\n",
       "        0.66, 0.68, 0.7 , 0.72, 0.74, 0.76, 0.78, 0.8 , 0.82, 0.84, 0.86,\n",
       "        0.88, 0.9 , 0.92, 0.94, 0.96, 0.98, 1.  ]),\n",
       " <BarContainer object of 50 artists>)"
      ]
     },
     "execution_count": 54,
     "metadata": {},
     "output_type": "execute_result"
    },
    {
     "data": {
      "image/png": "[encoded data removed]",
      "text/plain": [
       "<Figure size 432x288 with 1 Axes>"
      ]
     },
     "metadata": {
      "needs_background": "light"
     },
     "output_type": "display_data"
    }
   ],
   "source": [
    "#Bernoulli Distribution\n",
    "from scipy.stats import bernoulli\n",
    "import matplotlib.pyplot as plt\n",
    "ber_rnd_sample = bernoulli.rvs(size=10000, p=0.6)\n",
    "print(ber_rnd_sample)\n",
    "plt.hist(ber_rnd_sample,bins = 50)"
   ]
  }
 ],
 "metadata": {
  "kernelspec": {
   "display_name": "Python 3 (ipykernel)",
   "language": "python",
   "name": "python3"
  },
  "language_info": {
   "codemirror_mode": {
    "name": "ipython",
    "version": 3
   },
   "file_extension": ".py",
   "mimetype": "text/x-python",
   "name": "python",
   "nbconvert_exporter": "python",
   "pygments_lexer": "ipython3",
   "version": "3.9.12"
  }
 },
 "nbformat": 4,
 "nbformat_minor": 5
}
