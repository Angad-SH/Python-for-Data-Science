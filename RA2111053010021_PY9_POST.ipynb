{
 "cells": [
  {
   "cell_type": "code",
   "execution_count": 2,
   "id": "9f63301a",
   "metadata": {},
   "outputs": [
    {
     "name": "stdout",
     "output_type": "stream",
     "text": [
      "Original Matrix:\n",
      "[[1 2 3]\n",
      " [4 5 6]\n",
      " [7 8 9]]\n",
      "\n",
      "Shuffled Matrix:\n",
      "[[4 5 6]\n",
      " [1 2 3]\n",
      " [7 8 9]]\n",
      "\n",
      "Concatenated Row-wise:\n",
      "[[1 2 3]\n",
      " [4 5 6]\n",
      " [7 8 9]\n",
      " [4 5 6]\n",
      " [1 2 3]\n",
      " [7 8 9]]\n",
      "\n",
      "Concatenated Column-wise:\n",
      "[[1 2 3 4 5 6]\n",
      " [4 5 6 1 2 3]\n",
      " [7 8 9 7 8 9]]\n"
     ]
    }
   ],
   "source": [
    "#Angad Singh Hoonjan\n",
    "#RA2111053010021\n",
    "\n",
    "import numpy as np\n",
    "\n",
    "# Create a random 3x3 matrix\n",
    "A = np.arange(1, 10).reshape(3, 3)\n",
    "\n",
    "# Shuffle the random matrix\n",
    "B = A.copy()\n",
    "np.random.shuffle(B)\n",
    "\n",
    "# Concatenate row-wise\n",
    "concat_row = np.concatenate((A, B), axis=0)\n",
    "\n",
    "# Concatenate column-wise\n",
    "concat_column = np.concatenate((A, B), axis=1)\n",
    "\n",
    "# Print the original matrix\n",
    "print(\"Original Matrix:\")\n",
    "print(A)\n",
    "\n",
    "# Print the shuffled matrix\n",
    "print(\"\\nShuffled Matrix:\")\n",
    "print(B)\n",
    "\n",
    "# Print the concatenated matrices\n",
    "print(\"\\nConcatenated Row-wise:\")\n",
    "print(concat_row)\n",
    "\n",
    "print(\"\\nConcatenated Column-wise:\")\n",
    "print(concat_column)"
   ]
  },
  {
   "cell_type": "code",
   "execution_count": 4,
   "id": "4e4e948e",
   "metadata": {},
   "outputs": [
    {
     "name": "stdout",
     "output_type": "stream",
     "text": [
      "Appended DataFrame:\n",
      "      Name   Age Country\n",
      "0    Alice  25.0     NaN\n",
      "1      Bob  30.0     NaN\n",
      "2  Charlie  22.0     NaN\n",
      "3    David   NaN     USA\n",
      "4      Eve   NaN  Canada\n",
      "5    Frank   NaN      UK\n"
     ]
    }
   ],
   "source": [
    "#Angad Singh Hoonjan\n",
    "#RA2111053010021\n",
    "\n",
    "import pandas as pd\n",
    "\n",
    "# Create two DataFrames with different columns\n",
    "data1 = {'Name': ['Alice', 'Bob', 'Charlie'],\n",
    "         'Age': [25, 30, 22]}\n",
    "df1 = pd.DataFrame(data1)\n",
    "\n",
    "data2 = {'Name': ['David', 'Eve', 'Frank'],\n",
    "         'Country': ['USA', 'Canada', 'UK']}\n",
    "df2 = pd.DataFrame(data2)\n",
    "\n",
    "# Append the DataFrames\n",
    "appended_df = pd.concat([df1, df2], ignore_index=True, sort=False)\n",
    "\n",
    "# Print the appended DataFrame\n",
    "print(\"Appended DataFrame:\")\n",
    "print(appended_df)\n"
   ]
  }
 ],
 "metadata": {
  "kernelspec": {
   "display_name": "Python 3 (ipykernel)",
   "language": "python",
   "name": "python3"
  },
  "language_info": {
   "codemirror_mode": {
    "name": "ipython",
    "version": 3
   },
   "file_extension": ".py",
   "mimetype": "text/x-python",
   "name": "python",
   "nbconvert_exporter": "python",
   "pygments_lexer": "ipython3",
   "version": "3.11.3"
  }
 },
 "nbformat": 4,
 "nbformat_minor": 5
}
