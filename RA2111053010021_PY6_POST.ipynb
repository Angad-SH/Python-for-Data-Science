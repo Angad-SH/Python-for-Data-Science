{
 "cells": [
  {
   "cell_type": "code",
   "execution_count": 2,
   "id": "6e9b4f94",
   "metadata": {},
   "outputs": [
    {
     "name": "stdout",
     "output_type": "stream",
     "text": [
      "Enter numbers: 1 2 4 2 4 1 4 6 7\n"
     ]
    }
   ],
   "source": [
    "#Angad Singh Hoonjan\n",
    "#RA2111053010021\n",
    "import pickle\n",
    "numbers = (input(\"Enter numbers: \"))\n",
    "numbers = [int(num) for num in numbers.split()]\n",
    "with open('numbers.pkl','wb') as f:\n",
    "    pickle.dump(numbers,f)"
   ]
  },
  {
   "cell_type": "code",
   "execution_count": 4,
   "id": "32b20eaf",
   "metadata": {},
   "outputs": [
    {
     "name": "stdout",
     "output_type": "stream",
     "text": [
      "Integers from the file:  [1, 2, 4, 2, 4, 1, 4, 6, 7]\n"
     ]
    }
   ],
   "source": [
    "#Angad Singh Hoonjan\n",
    "#RA2111053010021\n",
    "import pickle\n",
    "with open('numbers.pkl','rb') as f:\n",
    "    loaded_numbers = pickle.load(f)\n",
    "print(\"Integers from the file: \",loaded_numbers)"
   ]
  },
  {
   "cell_type": "code",
   "execution_count": 8,
   "id": "999976a4",
   "metadata": {},
   "outputs": [
    {
     "name": "stdout",
     "output_type": "stream",
     "text": [
      "Enter the index of the wish you want to see: 5\n",
      "Value not available. Out of list index.\n"
     ]
    }
   ],
   "source": [
    "#Angad Singh Hoonjan\n",
    "#RA2111053010021\n",
    "wishes = [\"Health\",\"Happiness\",\"Success\"]\n",
    "try:\n",
    "    index = int(input(\"Enter the index of the wish you want to see: \"))\n",
    "    print (\"Your wish: \",wishes[index])\n",
    "except:\n",
    "    print(\"Value not available. Out of list index.\")"
   ]
  }
 ],
 "metadata": {
  "kernelspec": {
   "display_name": "Python 3 (ipykernel)",
   "language": "python",
   "name": "python3"
  },
  "language_info": {
   "codemirror_mode": {
    "name": "ipython",
    "version": 3
   },
   "file_extension": ".py",
   "mimetype": "text/x-python",
   "name": "python",
   "nbconvert_exporter": "python",
   "pygments_lexer": "ipython3",
   "version": "3.9.12"
  }
 },
 "nbformat": 4,
 "nbformat_minor": 5
}
