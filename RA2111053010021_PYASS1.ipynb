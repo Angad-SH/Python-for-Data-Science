{
 "cells": [
  {
   "cell_type": "markdown",
   "id": "f077248c",
   "metadata": {},
   "source": [
    "#   PYTHON FOR DATA SCIENCE ASSIGNMENT: 1\n",
    "\n",
    "Angad Singh Hoonjan\n",
    "RA2111053010021\n",
    "ECE-H Section\n",
    "\n",
    "Q1. Differentiate list and tuple with suitable examples\n",
    "A1. The differences between lists and tuples are as follows:\n",
    "(a) Mutability:\n",
    "List: Lists are mutable, which means you can change their contents (add,\n",
    "remove, or modify elements) after they are created.\n",
    "Tuple: Tuples are immutable, which means once they are created, their\n",
    "contents cannot be changed.\n",
    "\n",
    "(b) Syntax:\n",
    "List: Lists are created using square brackets [].\n",
    "Tuple: Tuples are created using parentheses ().\n",
    "\n",
    "(c) Performance:\n",
    "List: Lists are generally slightly less memory-efficient and slower for\n",
    "certain operations compared to tuples because of their mutability.\n",
    "Tuple: Tuples are more memory-efficient and faster for iteration since they\n",
    "are immutable.\n",
    "\n",
    "(d) Use Cases:\n",
    "List: Use lists when you have a collection of items that may need to be\n",
    "modified, and when you want to perform operations like appending, inserting,\n",
    "or removing elements.\n",
    "Tuple: Use tuples when you have a collection of items that should not change\n",
    "throughout the program (e.g., coordinates, database records), and when you\n",
    "want to ensure data integrity.\n",
    "\n",
    "Examples:"
   ]
  },
  {
   "cell_type": "code",
   "execution_count": 1,
   "id": "df7928b5",
   "metadata": {},
   "outputs": [
    {
     "name": "stdout",
     "output_type": "stream",
     "text": [
      "[0, 2, 3]\n",
      "(1, 2, 3)\n"
     ]
    },
    {
     "ename": "TypeError",
     "evalue": "'tuple' object does not support item assignment",
     "output_type": "error",
     "traceback": [
      "\u001b[1;31m---------------------------------------------------------------------------\u001b[0m",
      "\u001b[1;31mTypeError\u001b[0m                                 Traceback (most recent call last)",
      "Cell \u001b[1;32mIn[1], line 9\u001b[0m\n\u001b[0;32m      7\u001b[0m my_tuple \u001b[38;5;241m=\u001b[39m (\u001b[38;5;241m1\u001b[39m, \u001b[38;5;241m2\u001b[39m, \u001b[38;5;241m3\u001b[39m)\n\u001b[0;32m      8\u001b[0m \u001b[38;5;28mprint\u001b[39m(my_tuple)\n\u001b[1;32m----> 9\u001b[0m my_tuple[\u001b[38;5;241m0\u001b[39m] \u001b[38;5;241m=\u001b[39m \u001b[38;5;241m0\u001b[39m\n",
      "\u001b[1;31mTypeError\u001b[0m: 'tuple' object does not support item assignment"
     ]
    }
   ],
   "source": [
    "# Lists are mutable\n",
    "my_list = [1, 2, 3]\n",
    "my_list[0] = 0\n",
    "print(my_list) \n",
    "\n",
    "# Tuples are immutable\n",
    "my_tuple = (1, 2, 3)\n",
    "print(my_tuple)\n",
    "my_tuple[0] = 0"
   ]
  },
  {
   "cell_type": "markdown",
   "id": "26a1f76d",
   "metadata": {},
   "source": [
    "In the above example, we can see that lists can be edited but not tuples.\n",
    "Also, that the syntax of both is different, while the output of list is\n",
    "printed inside [], the output of tuple is printed inside ()."
   ]
  },
  {
   "cell_type": "code",
   "execution_count": 6,
   "id": "61d7a8a3",
   "metadata": {},
   "outputs": [
    {
     "name": "stdout",
     "output_type": "stream",
     "text": [
      "Gaussian value for mu=0, sigma=2, and x=1 is: 0.17603266338214976\n"
     ]
    }
   ],
   "source": [
    "'''2. Write the python program to evaluate a Gaussian function for \n",
    "mu=0, sigma=2, and x=1 with proper print function.\n",
    "'''\n",
    "#Angad Singh Hoonjan\n",
    "#RA2111053010021\n",
    "\n",
    "import numpy as np\n",
    "# Define the parameters\n",
    "mu = 0\n",
    "sigma = 2\n",
    "x = 1\n",
    "\n",
    "# Calculate the Gaussian function value\n",
    "GV = 1/(sigma*np.sqrt(2*np.pi))*np.exp(-0.5*((x-mu)/sigma)**2)\n",
    "\n",
    "# Print the result\n",
    "print(f\"Gaussian value for mu={mu}, sigma={sigma}, and x={x} is: {GV}\")"
   ]
  },
  {
   "cell_type": "code",
   "execution_count": 5,
   "id": "20de6010",
   "metadata": {},
   "outputs": [
    {
     "name": "stdout",
     "output_type": "stream",
     "text": [
      "Dictionary Iteration\n",
      "\txyz        123\n",
      "\tabc        345\n"
     ]
    }
   ],
   "source": [
    "'''3. Write the program using for statement to print the following output:    \n",
    "    Dictionary Iteration\n",
    "          xyz            123\n",
    "          abc            345\n",
    "'''\n",
    "#Angad Singh Hoonjan\n",
    "#RA2111053010021\n",
    "\n",
    "# Define a dictionary\n",
    "my_dict = {'xyz': 123, 'abc': 345}\n",
    "\n",
    "# Print the header\n",
    "print(\"Dictionary Iteration\")\n",
    "\n",
    "# Iterate through the dictionary and print key-value pairs\n",
    "for key, value in my_dict.items():\n",
    "    # Using f-strings for formatting\n",
    "    print(f\"\\t{key:<10} {value}\")"
   ]
  }
 ],
 "metadata": {
  "kernelspec": {
   "display_name": "Python 3 (ipykernel)",
   "language": "python",
   "name": "python3"
  },
  "language_info": {
   "codemirror_mode": {
    "name": "ipython",
    "version": 3
   },
   "file_extension": ".py",
   "mimetype": "text/x-python",
   "name": "python",
   "nbconvert_exporter": "python",
   "pygments_lexer": "ipython3",
   "version": "3.11.3"
  }
 },
 "nbformat": 4,
 "nbformat_minor": 5
}
