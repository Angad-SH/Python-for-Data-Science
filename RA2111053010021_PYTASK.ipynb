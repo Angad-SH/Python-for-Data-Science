{
 "cells": [
  {
   "cell_type": "code",
   "execution_count": 19,
   "id": "da2710e1",
   "metadata": {},
   "outputs": [
    {
     "name": "stdout",
     "output_type": "stream",
     "text": [
      "Enter a number: 21\n",
      "Enter the input base (binary, decimal, octal, hexadecimal): decimal\n",
      "Enter the output base (binary, decimal, octal, hexadecimal): binary\n",
      "\n",
      "The converted number is: 10101\n"
     ]
    }
   ],
   "source": [
    "#Angad Singh Hoonjan\n",
    "#RA2111053010021\n",
    "\n",
    "def convert_number(number, from_base, to_base):\n",
    "    # First, convert the input number to decimal\n",
    "    if from_base == 'binary':\n",
    "        decimal_number = int(number, 2)\n",
    "    elif from_base == 'decimal':\n",
    "        decimal_number = int(number)\n",
    "    elif from_base == 'octal':\n",
    "        decimal_number = int(number, 8)\n",
    "    elif from_base == 'hexadecimal':\n",
    "        decimal_number = int(number, 16)\n",
    "    else:\n",
    "        print(\"Invalid input base. Please enter 'binary', 'decimal', 'octal', or 'hexadecimal'.\\n\")\n",
    "        return None\n",
    "\n",
    "    # Next, convert the decimal number to the desired output base\n",
    "    if to_base == 'binary':\n",
    "        result = bin(decimal_number)[2:]\n",
    "    elif to_base == 'decimal':\n",
    "        result = str(decimal_number)\n",
    "    elif to_base == 'octal':\n",
    "        result = oct(decimal_number)[2:]\n",
    "    elif to_base == 'hexadecimal':\n",
    "        result = hex(decimal_number)[2:]\n",
    "    else:\n",
    "        print(\"/nInvalid output base. Please enter 'binary', 'decimal', 'octal', or 'hexadecimal'.\\n\")\n",
    "        return None\n",
    "\n",
    "    return result\n",
    "\n",
    "# Get user input for the number and the input and output bases\n",
    "number = input(\"Enter a number: \")\n",
    "from_base = input(\"Enter the input base (binary, decimal, octal, hexadecimal): \")\n",
    "to_base = input(\"Enter the output base (binary, decimal, octal, hexadecimal): \")\n",
    "\n",
    "# Convert the number and print the result\n",
    "result = convert_number(number, from_base, to_base)\n",
    "if result is not None:\n",
    "    print(f\"\\nThe converted number is: {result}\")"
   ]
  },
  {
   "cell_type": "code",
   "execution_count": 22,
   "id": "f10c2204",
   "metadata": {},
   "outputs": [
    {
     "name": "stdout",
     "output_type": "stream",
     "text": [
      "Enter t-shirt size: Large\n",
      "Enter t-shirt message: Simply Lovely!\n",
      "Creating a Large t-shirt with the message: 'Simply Lovely!'\n",
      "Creating a XLarge t-shirt with the message: 'Hello, World'\n"
     ]
    }
   ],
   "source": [
    "#Angad Singh Hoonjan\n",
    "#RA2111053010021\n",
    "\n",
    "def make_shirt(size, message):\n",
    "    \"\"\"\n",
    "    Print a sentence summarizing the size of the shirt and the message printed on it.\n",
    "    \n",
    "    Args:\n",
    "        size (str): The size of the t-shirt.\n",
    "        message (str): The message to be printed on the t-shirt.\n",
    "    \"\"\"\n",
    "    print(f\"Creating a {size} t-shirt with the message: '{message}'\")\n",
    "\n",
    "# Get user input for t-shirt size and message\n",
    "tshirt_size = input(\"Enter t-shirt size: \")\n",
    "tshirt_message = input(\"Enter t-shirt message: \")\n",
    "\n",
    "# Call the function using positional arguments\n",
    "make_shirt(tshirt_size, tshirt_message)\n",
    "\n",
    "# Call the function using keyword arguments\n",
    "make_shirt(size=\"XLarge\", message=\"Hello, World\")"
   ]
  }
 ],
 "metadata": {
  "kernelspec": {
   "display_name": "Python 3 (ipykernel)",
   "language": "python",
   "name": "python3"
  },
  "language_info": {
   "codemirror_mode": {
    "name": "ipython",
    "version": 3
   },
   "file_extension": ".py",
   "mimetype": "text/x-python",
   "name": "python",
   "nbconvert_exporter": "python",
   "pygments_lexer": "ipython3",
   "version": "3.11.3"
  }
 },
 "nbformat": 4,
 "nbformat_minor": 5
}
