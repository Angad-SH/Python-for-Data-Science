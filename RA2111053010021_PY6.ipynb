{
 "cells": [
  {
   "cell_type": "code",
   "execution_count": 5,
   "id": "3d0b4fc5",
   "metadata": {},
   "outputs": [
    {
     "name": "stdout",
     "output_type": "stream",
     "text": [
      "Enter the number of guests: 3\n",
      "Enter the name: Angad\n",
      "Hi Angad! Welcome!\n",
      "Enter the name: Max\n",
      "Hi Max! Welcome!\n",
      "Enter the name: Danny\n",
      "Hi Danny! Welcome!\n"
     ]
    }
   ],
   "source": [
    "#Angad Singh Hoonjan\n",
    "#RA2111053010021\n",
    "n = int(input(\"Enter the number of guests: \"))\n",
    "i=1\n",
    "while i<=n:\n",
    "    name=input(\"Enter the name: \")\n",
    "    print(f\"Hi {name}! Welcome!\")\n",
    "    filename = 'guest_book.txt'\n",
    "    with open(filename,'a') as file_object:\n",
    "        file_object.write(\"Guest name is \"+str(name)+'\\n')\n",
    "        i+=1"
   ]
  },
  {
   "cell_type": "code",
   "execution_count": 8,
   "id": "243dffac",
   "metadata": {},
   "outputs": [
    {
     "name": "stdout",
     "output_type": "stream",
     "text": [
      "Enter your favourite number: 33\n",
      "I know your favourite number! It's 33\n"
     ]
    }
   ],
   "source": [
    "#Angad Singh Hoonjan\n",
    "#RA2111053010021\n",
    "#program 1\n",
    "import json\n",
    "number = input(\"Enter your favourite number: \")\n",
    "filename = 'number.json'\n",
    "with open(filename,'w') as f:\n",
    "    json.dump(number,f)\n",
    "#program 2\n",
    "import json\n",
    "filename = 'number.json'\n",
    "with open(filename) as f:\n",
    "    number = json.load(f)\n",
    "    print(\"I know your favourite number! It's\",number)"
   ]
  },
  {
   "cell_type": "code",
   "execution_count": 13,
   "id": "10ae1dcd",
   "metadata": {},
   "outputs": [
    {
     "name": "stdout",
     "output_type": "stream",
     "text": [
      "The given input is: a\n",
      "Sorry! <class 'TypeError'> occured\n",
      "Try again with integer value\n",
      "\n",
      "The given input is: 0\n",
      "Sorry! <class 'ZeroDivisionError'> occured\n",
      "Try again with integer value\n",
      "\n",
      "The given input is: -2\n",
      "The recoprocal of given input integer is: -0.5 \n",
      "\n",
      "The given input is: 3\n",
      "The recoprocal of given input integer is: 0.3333333333333333 \n",
      "\n",
      "The given input is: 2\n",
      "The recoprocal of given input integer is: 0.5 \n",
      "\n",
      "The given input is: 5\n",
      "The recoprocal of given input integer is: 0.2 \n",
      "\n",
      "The given input is: -1\n",
      "The recoprocal of given input integer is: -1.0 \n",
      "\n",
      "The given input is: 0\n",
      "Sorry! <class 'ZeroDivisionError'> occured\n",
      "Try again with integer value\n",
      "\n"
     ]
    }
   ],
   "source": [
    "#Angad Singh Hoonjan\n",
    "#RA2111053010021\n",
    "import sys\n",
    "random_input = ['a',0,-2,3,2,5,-1,0]\n",
    "for value in random_input:\n",
    "    try:\n",
    "        print (\"The given input is:\",value)\n",
    "        reciprocal = 1/value\n",
    "        print (f\"The recoprocal of given input integer is: {reciprocal} \\n\")\n",
    "        continue\n",
    "    except:\n",
    "        print (\"Sorry!\",sys.exc_info()[0],\"occured\")\n",
    "        print(\"Try again with integer value\\n\")"
   ]
  },
  {
   "cell_type": "code",
   "execution_count": 18,
   "id": "cb794120",
   "metadata": {},
   "outputs": [
    {
     "name": "stdout",
     "output_type": "stream",
     "text": [
      "Enter a number: 11\n"
     ]
    },
    {
     "ename": "ValueError",
     "evalue": "The number shouldn't be an odd integer",
     "output_type": "error",
     "traceback": [
      "\u001b[1;31m---------------------------------------------------------------------------\u001b[0m",
      "\u001b[1;31mValueError\u001b[0m                                Traceback (most recent call last)",
      "Input \u001b[1;32mIn [18]\u001b[0m, in \u001b[0;36m<cell line: 4>\u001b[1;34m()\u001b[0m\n\u001b[0;32m      3\u001b[0m a \u001b[38;5;241m=\u001b[39m \u001b[38;5;28mint\u001b[39m(\u001b[38;5;28minput\u001b[39m(\u001b[38;5;124m\"\u001b[39m\u001b[38;5;124mEnter a number: \u001b[39m\u001b[38;5;124m\"\u001b[39m))\n\u001b[0;32m      4\u001b[0m \u001b[38;5;28;01mif\u001b[39;00m a\u001b[38;5;241m%\u001b[39m\u001b[38;5;241m2\u001b[39m\u001b[38;5;241m!=\u001b[39m\u001b[38;5;241m0\u001b[39m:\n\u001b[1;32m----> 5\u001b[0m     \u001b[38;5;28;01mraise\u001b[39;00m \u001b[38;5;167;01mValueError\u001b[39;00m(\u001b[38;5;124m\"\u001b[39m\u001b[38;5;124mThe number shouldn\u001b[39m\u001b[38;5;124m'\u001b[39m\u001b[38;5;124mt be an odd integer\u001b[39m\u001b[38;5;124m\"\u001b[39m)\n\u001b[0;32m      6\u001b[0m \u001b[38;5;28;01melse\u001b[39;00m:\n\u001b[0;32m      7\u001b[0m     \u001b[38;5;28mprint\u001b[39m(\u001b[38;5;124m\"\u001b[39m\u001b[38;5;124mThe given number is even number\u001b[39m\u001b[38;5;124m\"\u001b[39m)\n",
      "\u001b[1;31mValueError\u001b[0m: The number shouldn't be an odd integer"
     ]
    }
   ],
   "source": [
    "#Angad Singh Hoonjan\n",
    "#RA2111053010021\n",
    "a = int(input(\"Enter a number: \"))\n",
    "if a%2!=0:\n",
    "    raise ValueError(\"The number shouldn't be an odd integer\")\n",
    "else:\n",
    "    print(\"The given number is even number\")"
   ]
  },
  {
   "cell_type": "code",
   "execution_count": 19,
   "id": "30f1d7ea",
   "metadata": {},
   "outputs": [
    {
     "name": "stdout",
     "output_type": "stream",
     "text": [
      "Enter a number: 4\n",
      "The given number is even number\n"
     ]
    }
   ],
   "source": [
    "#Angad Singh Hoonjan\n",
    "#RA2111053010021\n",
    "a = int(input(\"Enter a number: \"))\n",
    "if a%2!=0:\n",
    "    raise ValueError(\"The number shouldn't be an odd integer\")\n",
    "else:\n",
    "    print(\"The given number is even number\")"
   ]
  }
 ],
 "metadata": {
  "kernelspec": {
   "display_name": "Python 3 (ipykernel)",
   "language": "python",
   "name": "python3"
  },
  "language_info": {
   "codemirror_mode": {
    "name": "ipython",
    "version": 3
   },
   "file_extension": ".py",
   "mimetype": "text/x-python",
   "name": "python",
   "nbconvert_exporter": "python",
   "pygments_lexer": "ipython3",
   "version": "3.9.12"
  }
 },
 "nbformat": 4,
 "nbformat_minor": 5
}
