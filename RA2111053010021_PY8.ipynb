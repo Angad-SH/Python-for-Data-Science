{
 "cells": [
  {
   "cell_type": "code",
   "execution_count": 1,
   "id": "c52e6462",
   "metadata": {},
   "outputs": [
    {
     "name": "stdout",
     "output_type": "stream",
     "text": [
      "  team      Pos  Age\n",
      "0  csk   bowler   24\n",
      "1  csk   bowler   28\n",
      "2   mi  batsman   40\n",
      "3   mi  batsman   22\n",
      "4  kkr  batsman   29\n",
      "5  kkr   bowler   33\n",
      "6  csk  batsman   31\n",
      "7  csk   bowler   26\n",
      "8  kkr  batsman   21\n",
      "9   mi  batsman   36\n",
      "\n",
      "\n",
      "            Age        \n",
      "           mean min max\n",
      "team                   \n",
      "csk   27.250000  24  31\n",
      "kkr   27.666667  21  33\n",
      "mi    32.666667  22  40\n",
      "\n",
      "\n",
      "       Pos   age_mean  age_min  age_max\n",
      "0  batsman  29.833333       21       40\n",
      "1   bowler  27.750000       24       33\n"
     ]
    }
   ],
   "source": [
    "#Angad Singh Hoonjan\n",
    "#RA2111053010021\n",
    "import pandas as pd\n",
    "data = {\"team\":[\"csk\",\"csk\",\"mi\",\"mi\",\"kkr\",\"kkr\",\"csk\",\"csk\",\"kkr\",\"mi\"],\n",
    "\"Pos\":[\"bowler\",\"bowler\",\"batsman\",\"batsman\",\"batsman\",\"bowler\",\n",
    "\"batsman\",\"bowler\",\"batsman\",\"batsman\"],\n",
    "\"Age\":[24,28,40,22,29,33,31,26,21,36]}\n",
    "df=pd.DataFrame(data)\n",
    "print (df)\n",
    "print(\"\\n\")\n",
    "grouped_single=df.groupby('team').agg({'Age':['mean','min','max']})\n",
    "print(grouped_single)\n",
    "print(\"\\n\")\n",
    "grouped_multiple=df.groupby('Pos').agg({'Age':['mean','min','max']})\n",
    "grouped_multiple.columns=['age_mean','age_min','age_max']\n",
    "grouped_multiple=grouped_multiple.reset_index()\n",
    "print(grouped_multiple)"
   ]
  },
  {
   "cell_type": "code",
   "execution_count": 2,
   "id": "d1cfb63c",
   "metadata": {},
   "outputs": [
    {
     "name": "stdout",
     "output_type": "stream",
     "text": [
      "DataFrame: \n",
      "   Phone_Model Date_of_Purchase  Price\n",
      "0     Samsung       2018-07-10  34000\n",
      "1     OnePlus       2020-08-12  21000\n",
      "2       Apple       2021-06-17  40000\n",
      "3      Xiaomi       2020-03-16  19500\n",
      "4       Honor       2019-05-19  19000\n",
      "5        Oppo        2022-0-22  26000\n",
      "\n",
      "Mobiles purchased after 19th May 2019: \n",
      "   Phone_Model Date_of_Purchase  Price\n",
      "1     OnePlus       2020-08-12  21000\n",
      "2       Apple       2021-06-17  40000\n",
      "3      Xiaomi       2020-03-16  19500\n",
      "5        Oppo        2022-0-22  26000\n",
      "\n",
      "Fetching rows with text Apple: \n",
      "   Phone_Model Date_of_Purchase  Price\n",
      "2       Apple       2021-06-17  40000\n",
      "\n",
      " Mobile Phones less than or equal to Rs 21000: \n",
      "   Phone_Model Date_of_Purchase  Price\n",
      "1     OnePlus       2020-08-12  21000\n",
      "3      Xiaomi       2020-03-16  19500\n",
      "4       Honor       2019-05-19  19000\n"
     ]
    }
   ],
   "source": [
    "#Angad Singh Hoonjan\n",
    "#RA2111053010021\n",
    "import pandas as pd\n",
    "#dictionary of lists\n",
    "d={'Phone_Model':['Samsung','OnePlus','Apple','Xiaomi','Honor','Oppo'],\n",
    "'Date_of_Purchase':['2018-07-10','2020-08-12','2021-06-17',\n",
    "'2020-03-16','2019-05-19','2022-0-22'],\n",
    "'Price':['34000','21000','40000','19500','19000','26000']}\n",
    "#creating dataframe from the above dictionary\n",
    "dataFrame = pd.DataFrame(d)\n",
    "print(\"DataFrame: \\n\",dataFrame)\n",
    "#fetch mobiles purchased after 19th May 2019\n",
    "resDF = dataFrame.loc[dataFrame[\"Date_of_Purchase\"]>\"2019-05-19\"]\n",
    "print(\"\\nMobiles purchased after 19th May 2019: \\n\",resDF)\n",
    "#fetch details for apple mobile\n",
    "dataFrame=dataFrame[dataFrame['Phone_Model'].str.contains('Apple')]\n",
    "print(\"\\nFetching rows with text Apple: \\n\", dataFrame)\n",
    "#fetch details for mobiles less than or equal to Rs 21000\n",
    "dataFrame = pd.DataFrame(d)\n",
    "priceDF=dataFrame.loc[dataFrame[\"Price\"]<=\"21000\"]\n",
    "print(\"\\n Mobile Phones less than or equal to Rs 21000: \\n\",priceDF)"
   ]
  },
  {
   "cell_type": "code",
   "execution_count": 3,
   "id": "332d5b4d",
   "metadata": {},
   "outputs": [
    {
     "name": "stdout",
     "output_type": "stream",
     "text": [
      "   A  B\n",
      "0  0  1\n",
      "1  1  2\n",
      "2  2  3\n",
      "3  3  4\n",
      "4  4  5 \n",
      "\n",
      "    A   B\n",
      "0   0   5\n",
      "1   5  10\n",
      "2  10  15\n",
      "3  15  20\n",
      "4  20  25\n"
     ]
    }
   ],
   "source": [
    "#Angad Singh Hoonjan\n",
    "#RA2111053010021\n",
    "#transforming a data frame by increasing the value\n",
    "import pandas as pd\n",
    "df=pd.DataFrame({'A':range(5),'B':range(1,6)})\n",
    "print(df,\"\\n\")\n",
    "new=df.transform(lambda x:x*5)\n",
    "print(new)"
   ]
  },
  {
   "cell_type": "code",
   "execution_count": 4,
   "id": "91069086",
   "metadata": {},
   "outputs": [
    {
     "name": "stdout",
     "output_type": "stream",
     "text": [
      "0    0\n",
      "1    1\n",
      "2    2\n",
      "3    3\n",
      "4    4\n",
      "5    5\n",
      "6    6\n",
      "7    7\n",
      "8    8\n",
      "9    9\n",
      "dtype: int64\n",
      "       sqrt          exp\n",
      "0  0.000000     1.000000\n",
      "1  1.000000     2.718282\n",
      "2  1.414214     7.389056\n",
      "3  1.732051    20.085537\n",
      "4  2.000000    54.598150\n",
      "5  2.236068   148.413159\n",
      "6  2.449490   403.428793\n",
      "7  2.645751  1096.633158\n",
      "8  2.828427  2980.957987\n",
      "9  3.000000  8103.083928\n"
     ]
    }
   ],
   "source": [
    "#Angad Singh Hoonjan\n",
    "#RA2111053010021\n",
    "\n",
    "#transforming a data frame with its square root and exponential values\n",
    "import numpy as np\n",
    "import pandas as pd\n",
    "s=pd.Series(range(10))\n",
    "print(s)\n",
    "s1=s.transform([np.sqrt,np.exp])\n",
    "print(s1)"
   ]
  }
 ],
 "metadata": {
  "kernelspec": {
   "display_name": "Python 3 (ipykernel)",
   "language": "python",
   "name": "python3"
  },
  "language_info": {
   "codemirror_mode": {
    "name": "ipython",
    "version": 3
   },
   "file_extension": ".py",
   "mimetype": "text/x-python",
   "name": "python",
   "nbconvert_exporter": "python",
   "pygments_lexer": "ipython3",
   "version": "3.11.3"
  }
 },
 "nbformat": 4,
 "nbformat_minor": 5
}
