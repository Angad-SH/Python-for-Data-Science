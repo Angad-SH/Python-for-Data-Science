{
 "cells": [
  {
   "cell_type": "code",
   "execution_count": 36,
   "id": "8ceeca31",
   "metadata": {},
   "outputs": [
    {
     "name": "stdout",
     "output_type": "stream",
     "text": [
      "The sum of numbers you have entered is : 244\n"
     ]
    }
   ],
   "source": [
    "#Angad Singh Hoonjan\n",
    "#RA2111053010021\n",
    "def sum_of_numbers(*args):\n",
    "    sum = 0\n",
    "    for arg in args:\n",
    "        sum+=arg\n",
    "    return sum\n",
    "\n",
    "sum=sum_of_numbers(25,32,14,73,100)\n",
    "print(f\"The sum of numbers you have entered is : {sum}\")"
   ]
  },
  {
   "cell_type": "code",
   "execution_count": 33,
   "id": "b8dad92b",
   "metadata": {},
   "outputs": [
    {
     "name": "stdout",
     "output_type": "stream",
     "text": [
      "Enter the side of cube: 9\n",
      "\n",
      "Volume of cube is 729 cubic units\n",
      "Lateral surface area is 324 sq. units\n",
      "Total surface area is 486 sq. units\n"
     ]
    }
   ],
   "source": [
    "#Angad Singh Hoonjan\n",
    "#RA2111053010021\n",
    "def cube(side):\n",
    "    volume = side**3\n",
    "    lateral_surface_area = 4*(side**2)\n",
    "    total_surface_area = 6*(side**2)\n",
    "    return volume,lateral_surface_area,total_surface_area\n",
    "\n",
    "V,LSA,TSA = cube(int(input(\"Enter the side of cube: \")))\n",
    "print(f\"\\nVolume of cube is {V} cubic units\")\n",
    "print(f\"Lateral surface area is {LSA} sq. units\")\n",
    "print(f\"Total surface area is {TSA} sq. units\")"
   ]
  },
  {
   "cell_type": "code",
   "execution_count": 38,
   "id": "7ce2260c",
   "metadata": {},
   "outputs": [
    {
     "name": "stdout",
     "output_type": "stream",
     "text": [
      "Enter amount exclusive of tax: 150\n",
      "Total payment inclusive of GST: 168.0\n"
     ]
    }
   ],
   "source": [
    "#Angad Singh Hoonjan\n",
    "#RA2111053010021\n",
    "def total_calc(bill_amount, GST_percentage=12):\n",
    "    total = bill_amount*(1+0.01*GST_percentage)\n",
    "    total = round(total,2)\n",
    "    print(f\"Total payment inclusive of GST: {total}\")\n",
    "    \n",
    "total_calc(int(input(\"Enter amount exclusive of tax: \")))"
   ]
  },
  {
   "cell_type": "code",
   "execution_count": 45,
   "id": "bd4e2e3d",
   "metadata": {},
   "outputs": [
    {
     "name": "stdout",
     "output_type": "stream",
     "text": [
      "Enter two numbers separated by a space: 11 55\n",
      "The HCF of 11 and 55 is: 11\n"
     ]
    }
   ],
   "source": [
    "#Angad Singh Hoonjan\n",
    "#RA2111053010021\n",
    "def hcf(x,y):\n",
    "    small = 0\n",
    "    greater = 0\n",
    "    small, greater = (x, y) if x < y else (y, x)\n",
    "    while small > 0:\n",
    "        temp = small\n",
    "        small = greater % small\n",
    "        greater = temp\n",
    "    return temp\n",
    "\n",
    "x,y=map(int, input(\"Enter two numbers separated by a space: \").split())\n",
    "print(f\"The HCF of {x} and {y} is: {hcf(x,y)}\")"
   ]
  }
 ],
 "metadata": {
  "kernelspec": {
   "display_name": "Python 3 (ipykernel)",
   "language": "python",
   "name": "python3"
  },
  "language_info": {
   "codemirror_mode": {
    "name": "ipython",
    "version": 3
   },
   "file_extension": ".py",
   "mimetype": "text/x-python",
   "name": "python",
   "nbconvert_exporter": "python",
   "pygments_lexer": "ipython3",
   "version": "3.11.3"
  }
 },
 "nbformat": 4,
 "nbformat_minor": 5
}
